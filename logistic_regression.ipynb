{
 "cells": [
  {
   "cell_type": "markdown",
   "metadata": {},
   "source": [
    "# **Logistic Regression: Exercises**\n",
    "<hr style=\"border:2px solid gray\">"
   ]
  },
  {
   "cell_type": "markdown",
   "metadata": {},
   "source": [
    "# `Titanic` Dataset\n",
    "<hr style=\"border:2px solid gray\">"
   ]
  },
  {
   "cell_type": "markdown",
   "metadata": {},
   "source": [
    ">For all of the models you create, choose a threshold that optimizes for accuracy.\n",
    "\n"
   ]
  },
  {
   "cell_type": "markdown",
   "metadata": {},
   "source": [
    "# Imports:"
   ]
  },
  {
   "cell_type": "code",
   "execution_count": 126,
   "metadata": {},
   "outputs": [],
   "source": [
    "## Imports:\n",
    "\n",
    "#standard DS imports\n",
    "import pandas as pd\n",
    "import numpy as np\n",
    "\n",
    "#visualization imports\n",
    "import matplotlib.pyplot as plt\n",
    "import seaborn as sns\n",
    "\n",
    "#metrics import\n",
    "from sklearn.metrics import classification_report, confusion_matrix\n",
    "from sklearn.linear_model import LogisticRegression\n",
    "from sklearn.impute import SimpleImputer\n",
    "\n",
    "\n",
    "#custom modules\n",
    "import acquire\n",
    "import prepare\n",
    "from evaluate import print_classification_metrics"
   ]
  },
  {
   "cell_type": "markdown",
   "metadata": {},
   "source": [
    "### Acquire\n",
    "Plan --> **Acquire** --> Prepare --> Explore --> Model --> Deliver"
   ]
  },
  {
   "cell_type": "code",
   "execution_count": 127,
   "metadata": {},
   "outputs": [],
   "source": [
    "#get my data\n",
    "df = acquire.get_titanic_data('titanic_db')"
   ]
  },
  {
   "cell_type": "markdown",
   "metadata": {},
   "source": [
    "## 1.) Create a model that includes only age, fare, and pclass. Does this model perform better than your baseline?\n",
    "**ANSWER: Model score is 69.10%. Baseline score is  61.61%.**\n"
   ]
  },
  {
   "cell_type": "markdown",
   "metadata": {},
   "source": [
    "### Prepare\n",
    "Plan --> Acquire --> **Prepare** --> Explore --> Model --> Deliver"
   ]
  },
  {
   "cell_type": "code",
   "execution_count": 128,
   "metadata": {},
   "outputs": [
    {
     "data": {
      "text/plain": [
       "passenger_id      0\n",
       "survived          0\n",
       "pclass            0\n",
       "sex               0\n",
       "age             177\n",
       "sibsp             0\n",
       "parch             0\n",
       "fare              0\n",
       "embarked          2\n",
       "class             0\n",
       "deck            688\n",
       "embark_town       2\n",
       "alone             0\n",
       "dtype: int64"
      ]
     },
     "execution_count": 128,
     "metadata": {},
     "output_type": "execute_result"
    }
   ],
   "source": [
    "# check for nulls\n",
    "df.isnull().sum()\n",
    "# We are dropping deck in this model. Will impute for mean age after split."
   ]
  },
  {
   "cell_type": "code",
   "execution_count": 129,
   "metadata": {},
   "outputs": [],
   "source": [
    "#clean my data\n",
    "df = df.drop_duplicates()\n",
    "df = df.drop(columns=['passenger_id', 'sex', 'sibsp', 'parch',\n",
    "                      'embarked', 'class', 'deck', 'embark_town', 'alone'])"
   ]
  },
  {
   "cell_type": "code",
   "execution_count": 130,
   "metadata": {},
   "outputs": [],
   "source": [
    "#split my data into train, validate, test\n",
    "train, validate, test = prepare.split_function(df, 'survived')"
   ]
  },
  {
   "cell_type": "code",
   "execution_count": 131,
   "metadata": {},
   "outputs": [],
   "source": [
    "imputer = SimpleImputer(missing_values = pd.NA, strategy='mean')\n",
    "# fit imputer to train df\n",
    "imputer = imputer.fit(train[['age']])\n",
    "# Impute for train, validate, and test\n",
    "train[['age']] = imputer.transform(train[['age']])\n",
    "validate[['age']] = imputer.transform(validate[['age']])\n",
    "test[['age']] = imputer.transform(test[['age']])\n",
    "  "
   ]
  },
  {
   "cell_type": "code",
   "execution_count": 132,
   "metadata": {},
   "outputs": [],
   "source": [
    "# further split by x and y and drop columns not in age, fare, and pclass:\n",
    "target = 'survived'\n",
    "\n",
    "# train\n",
    "x_train = train.drop(columns=[target])\n",
    "y_train = train[target]\n",
    "\n",
    "# validate\n",
    "x_validate = validate.drop(columns=[target])\n",
    "y_validate = validate[target]\n",
    "\n",
    "# test\n",
    "x_test = test.drop(columns=[target])\n",
    "y_test = test[target]"
   ]
  },
  {
   "cell_type": "markdown",
   "metadata": {},
   "source": [
    "### Model\n",
    "Plan --> Acquire --> Prepare --> Explore --> **Model** --> Deliver\n",
    "#### Create Object:"
   ]
  },
  {
   "cell_type": "code",
   "execution_count": 133,
   "metadata": {},
   "outputs": [],
   "source": [
    "# Define the logistic regression model\n",
    "logit = LogisticRegression(random_state=666)"
   ]
  },
  {
   "cell_type": "markdown",
   "metadata": {},
   "source": [
    "#### Fit Object:"
   ]
  },
  {
   "cell_type": "code",
   "execution_count": 134,
   "metadata": {},
   "outputs": [
    {
     "data": {
      "text/html": [
       "<style>#sk-container-id-4 {color: black;background-color: white;}#sk-container-id-4 pre{padding: 0;}#sk-container-id-4 div.sk-toggleable {background-color: white;}#sk-container-id-4 label.sk-toggleable__label {cursor: pointer;display: block;width: 100%;margin-bottom: 0;padding: 0.3em;box-sizing: border-box;text-align: center;}#sk-container-id-4 label.sk-toggleable__label-arrow:before {content: \"▸\";float: left;margin-right: 0.25em;color: #696969;}#sk-container-id-4 label.sk-toggleable__label-arrow:hover:before {color: black;}#sk-container-id-4 div.sk-estimator:hover label.sk-toggleable__label-arrow:before {color: black;}#sk-container-id-4 div.sk-toggleable__content {max-height: 0;max-width: 0;overflow: hidden;text-align: left;background-color: #f0f8ff;}#sk-container-id-4 div.sk-toggleable__content pre {margin: 0.2em;color: black;border-radius: 0.25em;background-color: #f0f8ff;}#sk-container-id-4 input.sk-toggleable__control:checked~div.sk-toggleable__content {max-height: 200px;max-width: 100%;overflow: auto;}#sk-container-id-4 input.sk-toggleable__control:checked~label.sk-toggleable__label-arrow:before {content: \"▾\";}#sk-container-id-4 div.sk-estimator input.sk-toggleable__control:checked~label.sk-toggleable__label {background-color: #d4ebff;}#sk-container-id-4 div.sk-label input.sk-toggleable__control:checked~label.sk-toggleable__label {background-color: #d4ebff;}#sk-container-id-4 input.sk-hidden--visually {border: 0;clip: rect(1px 1px 1px 1px);clip: rect(1px, 1px, 1px, 1px);height: 1px;margin: -1px;overflow: hidden;padding: 0;position: absolute;width: 1px;}#sk-container-id-4 div.sk-estimator {font-family: monospace;background-color: #f0f8ff;border: 1px dotted black;border-radius: 0.25em;box-sizing: border-box;margin-bottom: 0.5em;}#sk-container-id-4 div.sk-estimator:hover {background-color: #d4ebff;}#sk-container-id-4 div.sk-parallel-item::after {content: \"\";width: 100%;border-bottom: 1px solid gray;flex-grow: 1;}#sk-container-id-4 div.sk-label:hover label.sk-toggleable__label {background-color: #d4ebff;}#sk-container-id-4 div.sk-serial::before {content: \"\";position: absolute;border-left: 1px solid gray;box-sizing: border-box;top: 0;bottom: 0;left: 50%;z-index: 0;}#sk-container-id-4 div.sk-serial {display: flex;flex-direction: column;align-items: center;background-color: white;padding-right: 0.2em;padding-left: 0.2em;position: relative;}#sk-container-id-4 div.sk-item {position: relative;z-index: 1;}#sk-container-id-4 div.sk-parallel {display: flex;align-items: stretch;justify-content: center;background-color: white;position: relative;}#sk-container-id-4 div.sk-item::before, #sk-container-id-4 div.sk-parallel-item::before {content: \"\";position: absolute;border-left: 1px solid gray;box-sizing: border-box;top: 0;bottom: 0;left: 50%;z-index: -1;}#sk-container-id-4 div.sk-parallel-item {display: flex;flex-direction: column;z-index: 1;position: relative;background-color: white;}#sk-container-id-4 div.sk-parallel-item:first-child::after {align-self: flex-end;width: 50%;}#sk-container-id-4 div.sk-parallel-item:last-child::after {align-self: flex-start;width: 50%;}#sk-container-id-4 div.sk-parallel-item:only-child::after {width: 0;}#sk-container-id-4 div.sk-dashed-wrapped {border: 1px dashed gray;margin: 0 0.4em 0.5em 0.4em;box-sizing: border-box;padding-bottom: 0.4em;background-color: white;}#sk-container-id-4 div.sk-label label {font-family: monospace;font-weight: bold;display: inline-block;line-height: 1.2em;}#sk-container-id-4 div.sk-label-container {text-align: center;}#sk-container-id-4 div.sk-container {/* jupyter's `normalize.less` sets `[hidden] { display: none; }` but bootstrap.min.css set `[hidden] { display: none !important; }` so we also need the `!important` here to be able to override the default hidden behavior on the sphinx rendered scikit-learn.org. See: https://github.com/scikit-learn/scikit-learn/issues/21755 */display: inline-block !important;position: relative;}#sk-container-id-4 div.sk-text-repr-fallback {display: none;}</style><div id=\"sk-container-id-4\" class=\"sk-top-container\"><div class=\"sk-text-repr-fallback\"><pre>LogisticRegression(random_state=666)</pre><b>In a Jupyter environment, please rerun this cell to show the HTML representation or trust the notebook. <br />On GitHub, the HTML representation is unable to render, please try loading this page with nbviewer.org.</b></div><div class=\"sk-container\" hidden><div class=\"sk-item\"><div class=\"sk-estimator sk-toggleable\"><input class=\"sk-toggleable__control sk-hidden--visually\" id=\"sk-estimator-id-4\" type=\"checkbox\" checked><label for=\"sk-estimator-id-4\" class=\"sk-toggleable__label sk-toggleable__label-arrow\">LogisticRegression</label><div class=\"sk-toggleable__content\"><pre>LogisticRegression(random_state=666)</pre></div></div></div></div></div>"
      ],
      "text/plain": [
       "LogisticRegression(random_state=666)"
      ]
     },
     "execution_count": 134,
     "metadata": {},
     "output_type": "execute_result"
    }
   ],
   "source": [
    "#  fit the model on train data\n",
    "logit.fit(x_train, y_train)"
   ]
  },
  {
   "cell_type": "markdown",
   "metadata": {},
   "source": [
    "#### Transform/Predict:"
   ]
  },
  {
   "cell_type": "code",
   "execution_count": 135,
   "metadata": {},
   "outputs": [],
   "source": [
    "# now use the model to make predictions\n",
    "y_pred = logit.predict(x_train)"
   ]
  },
  {
   "cell_type": "code",
   "execution_count": 136,
   "metadata": {},
   "outputs": [
    {
     "name": "stdout",
     "output_type": "stream",
     "text": [
      "Model accuracy score:  69.10%\n"
     ]
    }
   ],
   "source": [
    "# Model Accuracy\n",
    "logit_accuracy = logit.score(x_train, y_train)\n",
    "print(f'Model accuracy score: {logit_accuracy: .2%}')"
   ]
  },
  {
   "cell_type": "code",
   "execution_count": 137,
   "metadata": {},
   "outputs": [
    {
     "name": "stdout",
     "output_type": "stream",
     "text": [
      "Baseline accuracy score:  61.61%\n"
     ]
    }
   ],
   "source": [
    "# baseline\n",
    "baseline_accuracy = (train['survived'] == 0).mean()\n",
    "print(f'Baseline accuracy score: {baseline_accuracy: .2%}')"
   ]
  },
  {
   "cell_type": "markdown",
   "metadata": {},
   "source": [
    "## 2.) Include sex in your model as well. Note that you'll need to encode or create a dummy variable of this feature before including it in a model.\n",
    "\n"
   ]
  },
  {
   "cell_type": "code",
   "execution_count": 138,
   "metadata": {},
   "outputs": [],
   "source": [
    "#get my data\n",
    "df = acquire.get_titanic_data('titanic_db')\n",
    "\n",
    "#clean my data: Keep sex for this model\n",
    "df = df.drop_duplicates()\n",
    "df = df.drop(columns=['passenger_id', 'sibsp', 'parch',\n",
    "                      'embarked', 'class', 'deck', 'embark_town', 'alone'])\n",
    "\n",
    "#create dummy variable for sex and concat\n",
    "dummy_df = pd.get_dummies(df[['sex']], drop_first=True, dtype=int)\n",
    "df = pd.concat([df, dummy_df], axis=1)\n",
    "\n",
    "#after dummy is created, drop sex column\n",
    "df = df.drop(columns=['sex'])"
   ]
  },
  {
   "cell_type": "code",
   "execution_count": 139,
   "metadata": {},
   "outputs": [],
   "source": [
    "#split my data into train, validate, test\n",
    "train, validate, test = prepare.split_function(df, 'survived')"
   ]
  },
  {
   "cell_type": "code",
   "execution_count": 140,
   "metadata": {},
   "outputs": [],
   "source": [
    "imputer = SimpleImputer(missing_values = pd.NA, strategy='mean')\n",
    "# fit imputer to train df\n",
    "imputer = imputer.fit(train[['age']])\n",
    "# Impute for train, validate, and test\n",
    "train[['age']] = imputer.transform(train[['age']])\n",
    "validate[['age']] = imputer.transform(validate[['age']])\n",
    "test[['age']] = imputer.transform(test[['age']])"
   ]
  },
  {
   "cell_type": "code",
   "execution_count": 141,
   "metadata": {},
   "outputs": [],
   "source": [
    "# further split by x and y and drop columns not in age, fare, and pclass:\n",
    "target = 'survived'\n",
    "\n",
    "# train\n",
    "x2_train = train.drop(columns=[target])\n",
    "y2_train = train[target]\n",
    "\n",
    "# validate\n",
    "x2_validate = validate.drop(columns=[target])\n",
    "y2_validate = validate[target]\n",
    "\n",
    "# test\n",
    "x2_test = test.drop(columns=[target])\n",
    "y2_test = test[target]"
   ]
  },
  {
   "cell_type": "code",
   "execution_count": 142,
   "metadata": {},
   "outputs": [],
   "source": [
    "#### For model including 'sex'\n",
    "\n",
    "# Define the logistic regression model\n",
    "logit_sex = LogisticRegression(random_state=666)\n",
    "\n",
    "#  fit the model on train data\n",
    "logit_sex.fit(x2_train, y2_train)\n",
    "\n",
    "# now use the model to make predictions\n",
    "y_pred_sex = logit_sex.predict(x2_train)"
   ]
  },
  {
   "cell_type": "markdown",
   "metadata": {},
   "source": [
    "## 3.) Try out other combinations of features and models."
   ]
  },
  {
   "cell_type": "markdown",
   "metadata": {},
   "source": [
    "> Lets add 'alone' to our second model."
   ]
  },
  {
   "cell_type": "code",
   "execution_count": 143,
   "metadata": {},
   "outputs": [],
   "source": [
    "#get my data\n",
    "df = acquire.get_titanic_data('titanic_db')\n",
    "\n",
    "#clean my data: Keep 'sex' and 'alone' for this model\n",
    "df = df.drop_duplicates()\n",
    "df = df.drop(columns=['passenger_id', 'sibsp', 'parch',\n",
    "                      'embarked', 'class', 'deck', 'embark_town'])\n",
    "\n",
    "#create dummy variable for sex and concat\n",
    "dummy_df = pd.get_dummies(df[['sex']], drop_first=True, dtype=int)\n",
    "df = pd.concat([df, dummy_df], axis=1)\n",
    "\n",
    "#after dummy is created, drop sex column\n",
    "df = df.drop(columns=['sex'])"
   ]
  },
  {
   "cell_type": "code",
   "execution_count": 144,
   "metadata": {},
   "outputs": [],
   "source": [
    "#split my data into train, validate, test\n",
    "train, validate, test = prepare.split_function(df, 'survived')"
   ]
  },
  {
   "cell_type": "code",
   "execution_count": 145,
   "metadata": {},
   "outputs": [],
   "source": [
    "imputer = SimpleImputer(missing_values = pd.NA, strategy='mean')\n",
    "# fit imputer to train df\n",
    "imputer = imputer.fit(train[['age']])\n",
    "# Impute for train, validate, and test\n",
    "train[['age']] = imputer.transform(train[['age']])\n",
    "validate[['age']] = imputer.transform(validate[['age']])\n",
    "test[['age']] = imputer.transform(test[['age']])"
   ]
  },
  {
   "cell_type": "code",
   "execution_count": 146,
   "metadata": {},
   "outputs": [],
   "source": [
    "# further split by x and y and drop columns not in age, fare, and pclass:\n",
    "target = 'survived'\n",
    "\n",
    "# train\n",
    "x3_train = train.drop(columns=[target])\n",
    "y3_train = train[target]\n",
    "\n",
    "# validate\n",
    "x3_validate = validate.drop(columns=[target])\n",
    "y3_validate = validate[target]\n",
    "\n",
    "# test\n",
    "x3_test = test.drop(columns=[target])\n",
    "y3_test = test[target]"
   ]
  },
  {
   "cell_type": "code",
   "execution_count": 147,
   "metadata": {},
   "outputs": [],
   "source": [
    "#### For model including 'sex' and 'alone'\n",
    "\n",
    "# Define the logistic regression model\n",
    "logit_sex_alone = LogisticRegression(random_state=666)\n",
    "\n",
    "#  fit the model on train data\n",
    "logit_sex_alone.fit(x3_train, y3_train)\n",
    "\n",
    "# now use the model to make predictions\n",
    "y_pred_sex_alone = logit_sex_alone.predict(x3_train)"
   ]
  },
  {
   "cell_type": "code",
   "execution_count": 148,
   "metadata": {},
   "outputs": [
    {
     "name": "stdout",
     "output_type": "stream",
     "text": [
      "Model accuracy score:  80.90%\n"
     ]
    }
   ],
   "source": [
    "logit_accuracy = logit_sex_alone.score(x3_train, y3_train)\n",
    "print(f'Model accuracy score: {logit_accuracy: .2%}')"
   ]
  },
  {
   "cell_type": "markdown",
   "metadata": {},
   "source": [
    "> Model 2 looks good. Lets try it with some different hyperparameters"
   ]
  },
  {
   "cell_type": "code",
   "execution_count": 149,
   "metadata": {},
   "outputs": [],
   "source": [
    "#### Model with 'sex' and c=5\n",
    "#get my data\n",
    "df = acquire.get_titanic_data('titanic_db')\n",
    "\n",
    "#clean my data: Keep sex for this model\n",
    "df = df.drop_duplicates()\n",
    "df = df.drop(columns=['passenger_id', 'sibsp', 'parch',\n",
    "                      'embarked', 'class', 'deck', 'embark_town', 'alone'])\n",
    "\n",
    "#create dummy variable for sex and concat\n",
    "dummy_df = pd.get_dummies(df[['sex']], drop_first=True, dtype=int)\n",
    "df = pd.concat([df, dummy_df], axis=1)\n",
    "\n",
    "#after dummy is created, drop sex column\n",
    "df = df.drop(columns=['sex'])"
   ]
  },
  {
   "cell_type": "code",
   "execution_count": 150,
   "metadata": {},
   "outputs": [],
   "source": [
    "#split my data into train, validate, test\n",
    "train, validate, test = prepare.split_function(df, 'survived')"
   ]
  },
  {
   "cell_type": "code",
   "execution_count": 151,
   "metadata": {},
   "outputs": [],
   "source": [
    "imputer = SimpleImputer(missing_values = pd.NA, strategy='mean')\n",
    "# fit imputer to train df\n",
    "imputer = imputer.fit(train[['age']])\n",
    "# Impute for train, validate, and test\n",
    "train[['age']] = imputer.transform(train[['age']])\n",
    "validate[['age']] = imputer.transform(validate[['age']])\n",
    "test[['age']] = imputer.transform(test[['age']])"
   ]
  },
  {
   "cell_type": "code",
   "execution_count": 152,
   "metadata": {},
   "outputs": [],
   "source": [
    "# Define the logistic regression model\n",
    "logit_sex2 = LogisticRegression(C=5, random_state=666)\n",
    "\n",
    "#  fit the model on train data\n",
    "logit_sex2.fit(x2_train, y2_train)\n",
    "\n",
    "# now use the model to make predictions\n",
    "y_pred_sex2 = logit_sex2.predict(x2_train)"
   ]
  },
  {
   "cell_type": "markdown",
   "metadata": {},
   "source": [
    "#### Evaluate:"
   ]
  },
  {
   "cell_type": "code",
   "execution_count": 153,
   "metadata": {},
   "outputs": [
    {
     "name": "stdout",
     "output_type": "stream",
     "text": [
      "Accuracy: 0.6910112359550562\n",
      "True Positive Rate: 0.424390243902439\n",
      "False Positive Rate: 0.14285714285714285\n",
      "True Negative Rate: 0.8571428571428571\n",
      "False Negative Rate: 0.5756097560975609\n",
      "Precision: 0.6492537313432836\n",
      "Recall: 0.424390243902439\n",
      "F1 Score: 0.5132743362831858\n",
      "Support (0): 205\n",
      "Support (1): 329\n",
      "~~~~~~~~~~~~~~~~~~~~~~~~~~~~~~~~~~~~~~~~~~~~~~~~~~\n",
      "Accuracy: 0.8089887640449438\n",
      "True Positive Rate: 0.7414634146341463\n",
      "False Positive Rate: 0.14893617021276595\n",
      "True Negative Rate: 0.851063829787234\n",
      "False Negative Rate: 0.25853658536585367\n",
      "Precision: 0.7562189054726368\n",
      "Recall: 0.7414634146341463\n",
      "F1 Score: 0.748768472906404\n",
      "Support (0): 205\n",
      "Support (1): 329\n",
      "~~~~~~~~~~~~~~~~~~~~~~~~~~~~~~~~~~~~~~~~~~~~~~~~~~\n",
      "Accuracy: 0.8089887640449438\n",
      "True Positive Rate: 0.7414634146341463\n",
      "False Positive Rate: 0.14893617021276595\n",
      "True Negative Rate: 0.851063829787234\n",
      "False Negative Rate: 0.25853658536585367\n",
      "Precision: 0.7562189054726368\n",
      "Recall: 0.7414634146341463\n",
      "F1 Score: 0.748768472906404\n",
      "Support (0): 205\n",
      "Support (1): 329\n",
      "~~~~~~~~~~~~~~~~~~~~~~~~~~~~~~~~~~~~~~~~~~~~~~~~~~\n",
      "Accuracy: 0.8127340823970037\n",
      "True Positive Rate: 0.7414634146341463\n",
      "False Positive Rate: 0.14285714285714285\n",
      "True Negative Rate: 0.8571428571428571\n",
      "False Negative Rate: 0.25853658536585367\n",
      "Precision: 0.7638190954773869\n",
      "Recall: 0.7414634146341463\n",
      "F1 Score: 0.7524752475247525\n",
      "Support (0): 205\n",
      "Support (1): 329\n"
     ]
    }
   ],
   "source": [
    "print_classification_metrics(y_train, y_pred)\n",
    "print('~~~~~~~~~~~~~~~~~~~~~~~~~~~~~~~~~~~~~~~~~~~~~~~~~~')\n",
    "print_classification_metrics(y2_train,y_pred_sex)\n",
    "print('~~~~~~~~~~~~~~~~~~~~~~~~~~~~~~~~~~~~~~~~~~~~~~~~~~')\n",
    "print_classification_metrics(y3_train,y_pred_sex_alone)\n",
    "print('~~~~~~~~~~~~~~~~~~~~~~~~~~~~~~~~~~~~~~~~~~~~~~~~~~')\n",
    "print_classification_metrics(y2_train,y_pred_sex2)"
   ]
  },
  {
   "cell_type": "code",
   "execution_count": 154,
   "metadata": {},
   "outputs": [
    {
     "name": "stdout",
     "output_type": "stream",
     "text": [
      "Model accuracy score:  69.10%\n",
      "Model 2 accuracy score:  80.90%\n",
      "Model 3 accuracy score:  80.90%\n",
      "Model 3 accuracy score:  80.90%\n",
      "Baseline accuracy score:  61.61%\n"
     ]
    }
   ],
   "source": [
    "# Model Accuracy\n",
    "\n",
    "logit_accuracy = logit.score(x_train, y_train)\n",
    "print(f'Model accuracy score: {logit_accuracy: .2%}')\n",
    "\n",
    "logit_sex_accuracy = logit_sex.score(x2_train, y2_train)\n",
    "print(f'Model 2 accuracy score: {logit_sex_accuracy: .2%}')\n",
    "\n",
    "logit_sex_alone_accuracy = logit_sex_alone.score(x3_train, y3_train)\n",
    "print(f'Model 3 accuracy score: {logit_sex_alone_accuracy: .2%}')\n",
    "\n",
    "logit_sex2_accuracy = logit_sex2.score(x2_train, y2_train)\n",
    "print(f'Model 3 accuracy score: {logit_sex_alone_accuracy: .2%}')\n",
    "\n",
    "# baseline\n",
    "baseline_accuracy = (train['survived'] == 0).mean()\n",
    "print(f'Baseline accuracy score: {baseline_accuracy: .2%}')"
   ]
  },
  {
   "cell_type": "markdown",
   "metadata": {},
   "source": [
    "## 4.) Use you best 3 models to predict and evaluate on your validate sample."
   ]
  },
  {
   "cell_type": "code",
   "execution_count": 155,
   "metadata": {},
   "outputs": [],
   "source": [
    "# Predict on validate sample\n",
    "y_pred_sex = logit_sex.predict(x2_validate)\n",
    "y_pred_sex_alone = logit_sex_alone.predict(x3_validate)\n",
    "y_pred_sex2 = logit_sex2.predict(x2_validate)"
   ]
  },
  {
   "cell_type": "code",
   "execution_count": 156,
   "metadata": {},
   "outputs": [
    {
     "name": "stdout",
     "output_type": "stream",
     "text": [
      "Accuracy: 0.7247191011235955\n",
      "True Positive Rate: 0.5882352941176471\n",
      "False Positive Rate: 0.19090909090909092\n",
      "True Negative Rate: 0.8090909090909091\n",
      "False Negative Rate: 0.4117647058823529\n",
      "Precision: 0.6557377049180327\n",
      "Recall: 0.5882352941176471\n",
      "F1 Score: 0.6201550387596899\n",
      "Support (0): 68\n",
      "Support (1): 110\n"
     ]
    }
   ],
   "source": [
    "print_classification_metrics(y2_validate, y_pred_sex)"
   ]
  },
  {
   "cell_type": "code",
   "execution_count": 157,
   "metadata": {},
   "outputs": [
    {
     "name": "stdout",
     "output_type": "stream",
     "text": [
      "Accuracy: 0.7247191011235955\n",
      "True Positive Rate: 0.5882352941176471\n",
      "False Positive Rate: 0.19090909090909092\n",
      "True Negative Rate: 0.8090909090909091\n",
      "False Negative Rate: 0.4117647058823529\n",
      "Precision: 0.6557377049180327\n",
      "Recall: 0.5882352941176471\n",
      "F1 Score: 0.6201550387596899\n",
      "Support (0): 68\n",
      "Support (1): 110\n"
     ]
    }
   ],
   "source": [
    "print_classification_metrics(y3_validate, y_pred_sex_alone)"
   ]
  },
  {
   "cell_type": "code",
   "execution_count": 158,
   "metadata": {},
   "outputs": [
    {
     "name": "stdout",
     "output_type": "stream",
     "text": [
      "Accuracy: 0.7247191011235955\n",
      "True Positive Rate: 0.5882352941176471\n",
      "False Positive Rate: 0.19090909090909092\n",
      "True Negative Rate: 0.8090909090909091\n",
      "False Negative Rate: 0.4117647058823529\n",
      "Precision: 0.6557377049180327\n",
      "Recall: 0.5882352941176471\n",
      "F1 Score: 0.6201550387596899\n",
      "Support (0): 68\n",
      "Support (1): 110\n"
     ]
    }
   ],
   "source": [
    "print_classification_metrics(y2_validate, y_pred_sex2)"
   ]
  }
 ],
 "metadata": {
  "kernelspec": {
   "display_name": "base",
   "language": "python",
   "name": "python3"
  },
  "language_info": {
   "codemirror_mode": {
    "name": "ipython",
    "version": 3
   },
   "file_extension": ".py",
   "mimetype": "text/x-python",
   "name": "python",
   "nbconvert_exporter": "python",
   "pygments_lexer": "ipython3",
   "version": "3.11.3"
  },
  "orig_nbformat": 4
 },
 "nbformat": 4,
 "nbformat_minor": 2
}
