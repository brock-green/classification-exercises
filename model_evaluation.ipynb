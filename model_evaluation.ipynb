{
 "cells": [
  {
   "cell_type": "code",
   "execution_count": 76,
   "metadata": {},
   "outputs": [],
   "source": [
    "# Standard DS imports\n",
    "import numpy as np\n",
    "import pandas as pd\n",
    "\n",
    "# dataset\n",
    "from pydataset import data\n",
    "\n",
    "# viz\n",
    "import matplotlib.pyplot as plt\n",
    "import seaborn as sns\n",
    "\n",
    "# stats\n",
    "from scipy import stats\n",
    "\n",
    "# read_csv\n",
    "import os\n",
    "\n",
    "from sklearn.metrics import accuracy_score, precision_score, recall_score, classification_report"
   ]
  },
  {
   "cell_type": "markdown",
   "metadata": {},
   "source": [
    "# Model Evaluation: Exercises"
   ]
  },
  {
   "cell_type": "markdown",
   "metadata": {},
   "source": [
    "### 1. Create a new file named model_evaluation.py or model_evaluation.ipynb for these exercises.\n"
   ]
  },
  {
   "cell_type": "markdown",
   "metadata": {},
   "source": [
    "### 2. Given the following confusion matrix, evaluate (by hand) the model's performance.\n",
    "\n",
    "- In the context of this problem, what is a false positive?\n",
    "- In the context of this problem, what is a false negative?\n",
    "- How would you describe this model?\n",
    "\n",
    "|               | pred dog   | pred cat   |\n",
    "|:------------  |-----------:|-----------:|\n",
    "| actual dog    |         46 |         7  |\n",
    "| actual cat    |         13 |         34 |\n"
   ]
  },
  {
   "cell_type": "code",
   "execution_count": 77,
   "metadata": {},
   "outputs": [
    {
     "name": "stdout",
     "output_type": "stream",
     "text": [
      "The accuracy of the model is 0.8.\n",
      "The recall of the model is 0.87.\n",
      "The precision of the model is 0.78.\n",
      "The specificity of the model is 0.72.\n"
     ]
    },
    {
     "data": {
      "text/plain": [
       "0.78"
      ]
     },
     "execution_count": 77,
     "metadata": {},
     "output_type": "execute_result"
    }
   ],
   "source": [
    "tp = 46\n",
    "fp = 13\n",
    "fn = 7\n",
    "tn = 34\n",
    "\n",
    "accuracy = (tp+tn)/(tp+fp+fn+tn)\n",
    "recall = tp/(tp+fn)\n",
    "precision = tp/(tp+fp)\n",
    "specificity = tn/(fp+tn)\n",
    "print(f'The accuracy of the model is {round(accuracy, 2)}.')\n",
    "print(f'The recall of the model is {round(recall, 2)}.')\n",
    "print(f'The precision of the model is {round(precision, 2)}.')\n",
    "print(f'The specificity of the model is {round(specificity, 2)}.')\n",
    "\n",
    "baseline_accuracy = round(46/(46+13),2)\n",
    "baseline_accuracy"
   ]
  },
  {
   "cell_type": "markdown",
   "metadata": {},
   "source": [
    "In this problem a false positive would be the case that a dog was predicted, but the actual observation was cat. \n",
    "\n",
    "In this prolem a false negative would be the case that a cat was predicted, but the actual observation was a dog.\n",
    "\n",
    "This model is slightly more accurate than the baseline.\n"
   ]
  },
  {
   "cell_type": "markdown",
   "metadata": {},
   "source": [
    "### 3. You are working as a datascientist working for Codeup Cody Creator (C3 for short), a rubber-duck manufacturing plant.\n",
    "\n",
    "Unfortunately, some of the rubber ducks that are produced will have defects. Your team has built several models that try to predict those defects, and the data from their predictions can be found here.\n",
    "\n",
    "Use the predictions dataset and pandas to help answer the following questions:\n",
    "\n",
    "- An internal team wants to investigate the cause of the manufacturing defects. They tell you that they want to identify as many of the ducks that have a defect as possible. Which evaluation metric would be appropriate here? Which model would be the best fit for this use case?\n",
    "**ANSWER: Recall would be the appropriate evaluation metric. Model3 had the highest recall score of 81.25%.**\n",
    "\n",
    "- Recently several stories in the local news have come out highlighting customers who received a rubber duck with a defect, and portraying C3 in a bad light. The PR team has decided to launch a program that gives customers with a defective duck a vacation to Hawaii. They need you to predict which ducks will have defects, but tell you the really don't want to accidentally give out a vacation package when the duck really doesn't have a defect. Which evaluation metric would be appropriate here? Which model would be the best fit for this use case?\n",
    "**ANSWER: Precision would be the appropriate evaluation metric as we want to avoid type 1 erros. Model1 has the highest level of precision at 80.00%.**\n"
   ]
  },
  {
   "cell_type": "code",
   "execution_count": 78,
   "metadata": {},
   "outputs": [
    {
     "data": {
      "text/html": [
       "<div>\n",
       "<style scoped>\n",
       "    .dataframe tbody tr th:only-of-type {\n",
       "        vertical-align: middle;\n",
       "    }\n",
       "\n",
       "    .dataframe tbody tr th {\n",
       "        vertical-align: top;\n",
       "    }\n",
       "\n",
       "    .dataframe thead th {\n",
       "        text-align: right;\n",
       "    }\n",
       "</style>\n",
       "<table border=\"1\" class=\"dataframe\">\n",
       "  <thead>\n",
       "    <tr style=\"text-align: right;\">\n",
       "      <th></th>\n",
       "      <th>actual</th>\n",
       "      <th>model1</th>\n",
       "      <th>model2</th>\n",
       "      <th>model3</th>\n",
       "    </tr>\n",
       "  </thead>\n",
       "  <tbody>\n",
       "    <tr>\n",
       "      <th>0</th>\n",
       "      <td>No Defect</td>\n",
       "      <td>No Defect</td>\n",
       "      <td>Defect</td>\n",
       "      <td>No Defect</td>\n",
       "    </tr>\n",
       "    <tr>\n",
       "      <th>1</th>\n",
       "      <td>No Defect</td>\n",
       "      <td>No Defect</td>\n",
       "      <td>Defect</td>\n",
       "      <td>Defect</td>\n",
       "    </tr>\n",
       "    <tr>\n",
       "      <th>2</th>\n",
       "      <td>No Defect</td>\n",
       "      <td>No Defect</td>\n",
       "      <td>Defect</td>\n",
       "      <td>No Defect</td>\n",
       "    </tr>\n",
       "    <tr>\n",
       "      <th>3</th>\n",
       "      <td>No Defect</td>\n",
       "      <td>Defect</td>\n",
       "      <td>Defect</td>\n",
       "      <td>Defect</td>\n",
       "    </tr>\n",
       "    <tr>\n",
       "      <th>4</th>\n",
       "      <td>No Defect</td>\n",
       "      <td>No Defect</td>\n",
       "      <td>Defect</td>\n",
       "      <td>No Defect</td>\n",
       "    </tr>\n",
       "    <tr>\n",
       "      <th>...</th>\n",
       "      <td>...</td>\n",
       "      <td>...</td>\n",
       "      <td>...</td>\n",
       "      <td>...</td>\n",
       "    </tr>\n",
       "    <tr>\n",
       "      <th>195</th>\n",
       "      <td>No Defect</td>\n",
       "      <td>No Defect</td>\n",
       "      <td>Defect</td>\n",
       "      <td>Defect</td>\n",
       "    </tr>\n",
       "    <tr>\n",
       "      <th>196</th>\n",
       "      <td>Defect</td>\n",
       "      <td>Defect</td>\n",
       "      <td>No Defect</td>\n",
       "      <td>No Defect</td>\n",
       "    </tr>\n",
       "    <tr>\n",
       "      <th>197</th>\n",
       "      <td>No Defect</td>\n",
       "      <td>No Defect</td>\n",
       "      <td>No Defect</td>\n",
       "      <td>No Defect</td>\n",
       "    </tr>\n",
       "    <tr>\n",
       "      <th>198</th>\n",
       "      <td>No Defect</td>\n",
       "      <td>No Defect</td>\n",
       "      <td>Defect</td>\n",
       "      <td>Defect</td>\n",
       "    </tr>\n",
       "    <tr>\n",
       "      <th>199</th>\n",
       "      <td>No Defect</td>\n",
       "      <td>No Defect</td>\n",
       "      <td>No Defect</td>\n",
       "      <td>Defect</td>\n",
       "    </tr>\n",
       "  </tbody>\n",
       "</table>\n",
       "<p>200 rows × 4 columns</p>\n",
       "</div>"
      ],
      "text/plain": [
       "        actual     model1     model2     model3\n",
       "0    No Defect  No Defect     Defect  No Defect\n",
       "1    No Defect  No Defect     Defect     Defect\n",
       "2    No Defect  No Defect     Defect  No Defect\n",
       "3    No Defect     Defect     Defect     Defect\n",
       "4    No Defect  No Defect     Defect  No Defect\n",
       "..         ...        ...        ...        ...\n",
       "195  No Defect  No Defect     Defect     Defect\n",
       "196     Defect     Defect  No Defect  No Defect\n",
       "197  No Defect  No Defect  No Defect  No Defect\n",
       "198  No Defect  No Defect     Defect     Defect\n",
       "199  No Defect  No Defect  No Defect     Defect\n",
       "\n",
       "[200 rows x 4 columns]"
      ]
     },
     "execution_count": 78,
     "metadata": {},
     "output_type": "execute_result"
    }
   ],
   "source": [
    "# Create dataframe from downloaded csv\n",
    "csv_file_path = 'c3.csv'\n",
    "df = pd.read_csv(csv_file_path)\n",
    "df"
   ]
  },
  {
   "cell_type": "code",
   "execution_count": 79,
   "metadata": {},
   "outputs": [
    {
     "name": "stdout",
     "output_type": "stream",
     "text": [
      "Model1 Recall: 50.00%\n",
      "Model2 Recall: 56.25%\n",
      "Model3 Recall: 81.25%\n"
     ]
    }
   ],
   "source": [
    "# Compare each model's recall score:\n",
    " \n",
    "# We will set our baseline to Defect. Restrict to positive values ('Defect') for the actual values.\n",
    "subset = df[df.actual == 'Defect']\n",
    "\n",
    "# Model recall\n",
    "model1_recall = (subset.model1 == subset.actual).mean()\n",
    "model2_recall = (subset.model2 == subset.actual).mean()\n",
    "model3_recall = (subset.model3 == subset.actual).mean()\n",
    "\n",
    "print(f'Model1 Recall: {model1_recall:.2%}')\n",
    "print(f'Model2 Recall: {model2_recall:.2%}')\n",
    "print(f'Model3 Recall: {model3_recall:.2%}')"
   ]
  },
  {
   "cell_type": "code",
   "execution_count": 80,
   "metadata": {},
   "outputs": [
    {
     "name": "stdout",
     "output_type": "stream",
     "text": [
      "Model1 Precision: 80.00%\n",
      "Model2 Precision: 10.00%\n",
      "Model3 Precision: 13.13%\n"
     ]
    }
   ],
   "source": [
    "# Compare each model's precision score:\n",
    "\n",
    "# Restrict to positive values ('Defect') for the PREDICTED values\n",
    "subset1 = df[df.model1 == 'Defect']\n",
    "subset2 = df[df.model2 == 'Defect']\n",
    "subset3 = df[df.model3 == 'Defect']\n",
    "\n",
    "\n",
    "# Model precision\n",
    "model1_precision = (subset1.model1 == subset1.actual).mean()\n",
    "model2_precision = (subset2.model2 == subset2.actual).mean()\n",
    "model3_precision = (subset3.model3 == subset3.actual).mean()\n",
    "\n",
    "print(f'Model1 Precision: {model1_precision:.2%}')\n",
    "print(f'Model2 Precision: {model2_precision:.2%}')\n",
    "print(f'Model3 Precision: {model3_precision:.2%}')"
   ]
  },
  {
   "cell_type": "markdown",
   "metadata": {},
   "source": [
    "### 4. You are working as a data scientist for Gives You Paws ™, a subscription based service that shows you cute pictures of dogs or cats (or both for an additional fee).\n",
    "\n",
    "At Gives You Paws, anyone can upload pictures of their cats or dogs. The photos are then put through a two step process. First an automated algorithm tags pictures as either a cat or a dog (Phase I). Next, the photos that have been initially identified are put through another round of review, possibly with some human oversight, before being presented to the users (Phase II).\n",
    "\n",
    "Several models have already been developed with the data, and you can find their results here.\n",
    "\n",
    "Given this dataset, use pandas to create a baseline model (i.e. a model that just predicts the most common class) and answer the following questions:\n",
    "\n",
    "- In terms of accuracy, how do the various models compare to the baseline model? Are any of the models better than the baseline?\\\n",
    "**ANSWER: model1 and model4 were more accurate than the baseline. model2 and model3 were not.**\n",
    "\n",
    "- Suppose you are working on a team that solely deals with dog pictures. Which of these models would you recommend?\\\n",
    "**ANSWER: model4 has the highest recall for positive value of 'dog'. Recall score = 95.57**\n",
    "\n",
    "- Suppose you are working on a team that solely deals with cat pictures. Which of these models would you recommend?"
   ]
  },
  {
   "cell_type": "code",
   "execution_count": 81,
   "metadata": {},
   "outputs": [
    {
     "data": {
      "text/html": [
       "<div>\n",
       "<style scoped>\n",
       "    .dataframe tbody tr th:only-of-type {\n",
       "        vertical-align: middle;\n",
       "    }\n",
       "\n",
       "    .dataframe tbody tr th {\n",
       "        vertical-align: top;\n",
       "    }\n",
       "\n",
       "    .dataframe thead th {\n",
       "        text-align: right;\n",
       "    }\n",
       "</style>\n",
       "<table border=\"1\" class=\"dataframe\">\n",
       "  <thead>\n",
       "    <tr style=\"text-align: right;\">\n",
       "      <th></th>\n",
       "      <th>actual</th>\n",
       "      <th>model1</th>\n",
       "      <th>model2</th>\n",
       "      <th>model3</th>\n",
       "      <th>model4</th>\n",
       "    </tr>\n",
       "  </thead>\n",
       "  <tbody>\n",
       "    <tr>\n",
       "      <th>0</th>\n",
       "      <td>cat</td>\n",
       "      <td>cat</td>\n",
       "      <td>dog</td>\n",
       "      <td>cat</td>\n",
       "      <td>dog</td>\n",
       "    </tr>\n",
       "    <tr>\n",
       "      <th>1</th>\n",
       "      <td>dog</td>\n",
       "      <td>dog</td>\n",
       "      <td>cat</td>\n",
       "      <td>cat</td>\n",
       "      <td>dog</td>\n",
       "    </tr>\n",
       "    <tr>\n",
       "      <th>2</th>\n",
       "      <td>dog</td>\n",
       "      <td>cat</td>\n",
       "      <td>cat</td>\n",
       "      <td>cat</td>\n",
       "      <td>dog</td>\n",
       "    </tr>\n",
       "    <tr>\n",
       "      <th>3</th>\n",
       "      <td>dog</td>\n",
       "      <td>dog</td>\n",
       "      <td>dog</td>\n",
       "      <td>cat</td>\n",
       "      <td>dog</td>\n",
       "    </tr>\n",
       "    <tr>\n",
       "      <th>4</th>\n",
       "      <td>cat</td>\n",
       "      <td>cat</td>\n",
       "      <td>cat</td>\n",
       "      <td>dog</td>\n",
       "      <td>dog</td>\n",
       "    </tr>\n",
       "    <tr>\n",
       "      <th>...</th>\n",
       "      <td>...</td>\n",
       "      <td>...</td>\n",
       "      <td>...</td>\n",
       "      <td>...</td>\n",
       "      <td>...</td>\n",
       "    </tr>\n",
       "    <tr>\n",
       "      <th>4995</th>\n",
       "      <td>dog</td>\n",
       "      <td>dog</td>\n",
       "      <td>dog</td>\n",
       "      <td>dog</td>\n",
       "      <td>dog</td>\n",
       "    </tr>\n",
       "    <tr>\n",
       "      <th>4996</th>\n",
       "      <td>dog</td>\n",
       "      <td>dog</td>\n",
       "      <td>cat</td>\n",
       "      <td>cat</td>\n",
       "      <td>dog</td>\n",
       "    </tr>\n",
       "    <tr>\n",
       "      <th>4997</th>\n",
       "      <td>dog</td>\n",
       "      <td>cat</td>\n",
       "      <td>cat</td>\n",
       "      <td>dog</td>\n",
       "      <td>dog</td>\n",
       "    </tr>\n",
       "    <tr>\n",
       "      <th>4998</th>\n",
       "      <td>cat</td>\n",
       "      <td>cat</td>\n",
       "      <td>cat</td>\n",
       "      <td>cat</td>\n",
       "      <td>dog</td>\n",
       "    </tr>\n",
       "    <tr>\n",
       "      <th>4999</th>\n",
       "      <td>dog</td>\n",
       "      <td>dog</td>\n",
       "      <td>dog</td>\n",
       "      <td>dog</td>\n",
       "      <td>dog</td>\n",
       "    </tr>\n",
       "  </tbody>\n",
       "</table>\n",
       "<p>5000 rows × 5 columns</p>\n",
       "</div>"
      ],
      "text/plain": [
       "     actual model1 model2 model3 model4\n",
       "0       cat    cat    dog    cat    dog\n",
       "1       dog    dog    cat    cat    dog\n",
       "2       dog    cat    cat    cat    dog\n",
       "3       dog    dog    dog    cat    dog\n",
       "4       cat    cat    cat    dog    dog\n",
       "...     ...    ...    ...    ...    ...\n",
       "4995    dog    dog    dog    dog    dog\n",
       "4996    dog    dog    cat    cat    dog\n",
       "4997    dog    cat    cat    dog    dog\n",
       "4998    cat    cat    cat    cat    dog\n",
       "4999    dog    dog    dog    dog    dog\n",
       "\n",
       "[5000 rows x 5 columns]"
      ]
     },
     "execution_count": 81,
     "metadata": {},
     "output_type": "execute_result"
    }
   ],
   "source": [
    "# Create dataframe from downloaded csv\n",
    "csv_file_path = 'gives_you_paws.csv'\n",
    "df = pd.read_csv(csv_file_path)\n",
    "df"
   ]
  },
  {
   "cell_type": "code",
   "execution_count": 82,
   "metadata": {},
   "outputs": [],
   "source": [
    "# Create a baseline model to predict the most common class.\n",
    "\n",
    "## Find the counts of each outcome and set the baseline_prediction:\n",
    "df.actual.value_counts()\n",
    "df['baseline_prediction'] = 'dog'"
   ]
  },
  {
   "cell_type": "code",
   "execution_count": 83,
   "metadata": {},
   "outputs": [
    {
     "name": "stdout",
     "output_type": "stream",
     "text": [
      "Baseline Accuracy: 65.08%\n",
      "Model1 Accuracy: 80.74%\n",
      "Model2 Accuracy: 63.04%\n",
      "Model3 Accuracy: 50.96%\n",
      "Model4 Accuracy: 74.26%\n"
     ]
    }
   ],
   "source": [
    "# Find the accuracy of each model and compare to the baseline.\n",
    "\n",
    "baseline_accuracy = (df.baseline_prediction == df.actual).mean()\n",
    "model1_accuracy = (df.model1 == df.actual).mean()\n",
    "model2_accuracy = (df.model2 == df.actual).mean()\n",
    "model3_accuracy = (df.model3 == df.actual).mean()\n",
    "model4_accuracy = (df.model4 == df.actual).mean()\n",
    "\n",
    "print(f'Baseline Accuracy: {baseline_accuracy:.2%}')\n",
    "print(f'Model1 Accuracy: {model1_accuracy:.2%}')\n",
    "print(f'Model2 Accuracy: {model2_accuracy:.2%}')\n",
    "print(f'Model3 Accuracy: {model3_accuracy:.2%}')\n",
    "print(f'Model4 Accuracy: {model4_accuracy:.2%}')"
   ]
  },
  {
   "cell_type": "code",
   "execution_count": 84,
   "metadata": {},
   "outputs": [
    {
     "data": {
      "text/plain": [
       "[['model1', 0.803318992009834],\n",
       " ['model2', 0.49078057775046097],\n",
       " ['model3', 0.5086047940995697],\n",
       " ['model4', 0.9557467732022127],\n",
       " ['baseline_prediction', 1.0]]"
      ]
     },
     "execution_count": 84,
     "metadata": {},
     "output_type": "execute_result"
    }
   ],
   "source": [
    "# subset the dataset for only dogs\n",
    "# Recall:\n",
    "\n",
    "subset = df[df.actual == 'dog']\n",
    "\n",
    "dog_recall = []\n",
    "\n",
    "for model in subset.columns[1:]:\n",
    "    recall = (subset.actual == subset[model]).mean()\n",
    "    dog_recall.append([model, recall])\n",
    "dog_recall"
   ]
  },
  {
   "cell_type": "markdown",
   "metadata": {},
   "source": [
    "### 5. Follow the links below to read the documentation about each function, then apply those functions to the data from the previous problem."
   ]
  },
  {
   "cell_type": "code",
   "execution_count": 89,
   "metadata": {},
   "outputs": [
    {
     "name": "stdout",
     "output_type": "stream",
     "text": [
      "Model1 accuracy score 80.74%\n",
      "Model2 accuracy score 63.04%\n",
      "Model3 accuracy score 50.96%\n",
      "Model4 accuracy score 74.26%\n",
      "Baseline accuracy score 65.08%\n"
     ]
    }
   ],
   "source": [
    "# sklearn.metrics.accuracy_score    \n",
    "model1_accuracy_score = sklearn.metrics.accuracy_score(df.actual, df.model1)\n",
    "model2_accuracy_score = sklearn.metrics.accuracy_score(df.actual, df.model2)\n",
    "model3_accuracy_score = sklearn.metrics.accuracy_score(df.actual, df.model3)\n",
    "model4_accuracy_score = sklearn.metrics.accuracy_score(df.actual, df.model4)\n",
    "baseline_accuracy_score = sklearn.metrics.accuracy_score(df.actual, df.baseline_prediction)\n",
    "\n",
    "print(f'Model1 accuracy score{model1_accuracy_score: .2%}')\n",
    "print(f'Model2 accuracy score{model2_accuracy_score: .2%}')\n",
    "print(f'Model3 accuracy score{model3_accuracy_score: .2%}')\n",
    "print(f'Model4 accuracy score{model4_accuracy_score: .2%}')\n",
    "print(f'Baseline accuracy score{baseline_accuracy_score: .2%}')"
   ]
  },
  {
   "cell_type": "code",
   "execution_count": 90,
   "metadata": {},
   "outputs": [
    {
     "name": "stdout",
     "output_type": "stream",
     "text": [
      "Model1 precision score 89.00%\n",
      "Model2 precision score 89.32%\n",
      "Model3 precision score 65.99%\n",
      "Model4 precision score 73.12%\n",
      "Baseline precision score 65.08%\n"
     ]
    }
   ],
   "source": [
    "# sklearn.metrics.precision_score\n",
    "model1_precision_score = sklearn.metrics.precision_score(df.actual, df.model1, pos_label='dog')\n",
    "model2_precision_score = sklearn.metrics.precision_score(df.actual, df.model2, pos_label='dog')\n",
    "model3_precision_score = sklearn.metrics.precision_score(df.actual, df.model3, pos_label='dog')\n",
    "model4_precision_score = sklearn.metrics.precision_score(df.actual, df.model4, pos_label='dog')\n",
    "baseline_precision_score = sklearn.metrics.precision_score(df.actual, df.baseline_prediction, pos_label='dog')\n",
    "\n",
    "\n",
    "print(f'Model1 precision score{model1_precision_score: .2%}')\n",
    "print(f'Model2 precision score{model2_precision_score: .2%}')\n",
    "print(f'Model3 precision score{model3_precision_score: .2%}')\n",
    "print(f'Model4 precision score{model4_precision_score: .2%}')\n",
    "print(f'Baseline precision score{baseline_precision_score: .2%}')"
   ]
  },
  {
   "cell_type": "code",
   "execution_count": 91,
   "metadata": {},
   "outputs": [
    {
     "name": "stdout",
     "output_type": "stream",
     "text": [
      "Model1 recall score 80.33%\n",
      "Model2 recall score 49.08%\n",
      "Model3 recall score 50.86%\n",
      "Model4 recall score 95.57%\n",
      "Baseline recall score 100.00%\n"
     ]
    }
   ],
   "source": [
    "# sklearn.metrics.recall_score\n",
    "model1_recall_score = sklearn.metrics.recall_score(df.actual, df.model1, pos_label='dog')\n",
    "model2_recall_score = sklearn.metrics.recall_score(df.actual, df.model2, pos_label='dog')\n",
    "model3_recall_score = sklearn.metrics.recall_score(df.actual, df.model3, pos_label='dog')\n",
    "model4_recall_score = sklearn.metrics.recall_score(df.actual, df.model4, pos_label='dog')\n",
    "baseline_recall_score = sklearn.metrics.recall_score(df.actual, df.baseline_prediction, pos_label='dog')\n",
    "\n",
    "\n",
    "print(f'Model1 recall score{model1_recall_score: .2%}')\n",
    "print(f'Model2 recall score{model2_recall_score: .2%}')\n",
    "print(f'Model3 recall score{model3_recall_score: .2%}')\n",
    "print(f'Model4 recall score{model4_recall_score: .2%}')\n",
    "print(f'Baseline recall score{baseline_recall_score: .2%}')"
   ]
  },
  {
   "cell_type": "code",
   "execution_count": 88,
   "metadata": {},
   "outputs": [
    {
     "name": "stdout",
     "output_type": "stream",
     "text": [
      "              precision    recall  f1-score   support\n",
      "\n",
      "         cat       0.69      0.82      0.75      1746\n",
      "         dog       0.89      0.80      0.84      3254\n",
      "\n",
      "    accuracy                           0.81      5000\n",
      "   macro avg       0.79      0.81      0.80      5000\n",
      "weighted avg       0.82      0.81      0.81      5000\n",
      "\n",
      "~~~~~~~~~~~~~~~~~~~~~~~~~~~~~~~~~~~~~~~\n",
      "              precision    recall  f1-score   support\n",
      "\n",
      "         cat       0.48      0.89      0.63      1746\n",
      "         dog       0.89      0.49      0.63      3254\n",
      "\n",
      "    accuracy                           0.63      5000\n",
      "   macro avg       0.69      0.69      0.63      5000\n",
      "weighted avg       0.75      0.63      0.63      5000\n",
      "\n",
      "~~~~~~~~~~~~~~~~~~~~~~~~~~~~~~~~~~~~~~~\n",
      "              precision    recall  f1-score   support\n",
      "\n",
      "         cat       0.36      0.51      0.42      1746\n",
      "         dog       0.66      0.51      0.57      3254\n",
      "\n",
      "    accuracy                           0.51      5000\n",
      "   macro avg       0.51      0.51      0.50      5000\n",
      "weighted avg       0.55      0.51      0.52      5000\n",
      "\n",
      "~~~~~~~~~~~~~~~~~~~~~~~~~~~~~~~~~~~~~~~\n",
      "              precision    recall  f1-score   support\n",
      "\n",
      "         cat       0.81      0.35      0.48      1746\n",
      "         dog       0.73      0.96      0.83      3254\n",
      "\n",
      "    accuracy                           0.74      5000\n",
      "   macro avg       0.77      0.65      0.66      5000\n",
      "weighted avg       0.76      0.74      0.71      5000\n",
      "\n",
      "~~~~~~~~~~~~~~~~~~~~~~~~~~~~~~~~~~~~~~~\n"
     ]
    }
   ],
   "source": [
    "# sklearn.metrics.classification_score\n",
    "model1_classification_report = classification_report(df.actual, df.model1)\n",
    "model2_classification_report = classification_report(df.actual, df.model2)\n",
    "model3_classification_report = classification_report(df.actual, df.model3)\n",
    "model4_classification_report = classification_report(df.actual, df.model4)\n",
    "\n",
    "print(model1_classification_report)\n",
    "print('~~~~~~~~~~~~~~~~~~~~~~~~~~~~~~~~~~~~~~~')\n",
    "print(model2_classification_report)\n",
    "print('~~~~~~~~~~~~~~~~~~~~~~~~~~~~~~~~~~~~~~~')\n",
    "print(model3_classification_report)\n",
    "print('~~~~~~~~~~~~~~~~~~~~~~~~~~~~~~~~~~~~~~~')\n",
    "print(model4_classification_report)\n",
    "print('~~~~~~~~~~~~~~~~~~~~~~~~~~~~~~~~~~~~~~~')"
   ]
  }
 ],
 "metadata": {
  "kernelspec": {
   "display_name": "base",
   "language": "python",
   "name": "python3"
  },
  "language_info": {
   "codemirror_mode": {
    "name": "ipython",
    "version": 3
   },
   "file_extension": ".py",
   "mimetype": "text/x-python",
   "name": "python",
   "nbconvert_exporter": "python",
   "pygments_lexer": "ipython3",
   "version": "3.11.3"
  },
  "orig_nbformat": 4
 },
 "nbformat": 4,
 "nbformat_minor": 2
}
